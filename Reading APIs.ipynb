{
 "cells": [
  {
   "cell_type": "code",
   "execution_count": 1,
   "id": "5d0d6146",
   "metadata": {},
   "outputs": [],
   "source": [
    "import pandas as pd \n",
    "import requests\n",
    "import json\n",
    "from pprint import pprint\n",
    "import matplotlib.pyplot as plt\n",
    "import numpy as np"
   ]
  },
  {
   "cell_type": "code",
   "execution_count": 2,
   "id": "f8b07034",
   "metadata": {
    "scrolled": false
   },
   "outputs": [],
   "source": [
    "website_url = \"https://developer.spotify.com/documentation/web-api/reference/get-an-artists-top-tracks\"\n",
    "api_url_toptracks = \"https://api.spotify.com/v1/artists/5cj0lLjcoR7YOSnhnX0Po5/top-tracks?market=US\"\n",
    "api_url_relatedartist = \"https://api.spotify.com/v1/artists/5cj0lLjcoR7YOSnhnX0Po5/related-artists\"\n",
    "api_url_audioanalysis = \"https://api.spotify.com/v1/audio-analysis/6c6WmIHcHlhccEwSFBhzNa\"\n",
    "api_url_audiofeatures = \"https://api.spotify.com/v1/audio-features/6c6WmIHcHlhccEwSFBhzNa\"\n",
    "#putitonthefloor = song 1 \n",
    "api_url_audiofeatures2 = \"https://api.spotify.com/v1/audio-features/0ZxhtATQ0a6EvQNZ0z6NKV\"\n",
    "#song2 = princess diana \n",
    "api_url_audiofeatures3 = \"https://api.spotify.com/v1/audio-features/7sliFe6W30tPBPh6dvZsIH\"\n",
    "#song3 = area codes"
   ]
  },
  {
   "cell_type": "code",
   "execution_count": 3,
   "id": "5992e4b0",
   "metadata": {},
   "outputs": [],
   "source": [
    "#curl -X POST \"https://accounts.spotify.com/api/token\" \\\n",
    "#>      -H \"Content-Type: application/x-www-form-urlencoded\" \\\n",
    "#>      -d \"grant_type=client_credentials&client_id=da519c39baed4bab992606419ed1ad08&client_secret=e79d7d4c32054e56be93516339acebc3\"\n",
    "#{\"access_token\":\"BQBwBD7_2LLnnjKqIW9tKRDbARos2Wp1ch9v_IsXiWe0hp1oetN1hth2PxUTi6zFPhdNZeZoU-2mhlYxKdi8KMr6p9XF62hYfBjsp6RRyG6QwlUPC6w\",\"token_type\":\"Bearer\",\"exp"
   ]
  },
  {
   "cell_type": "code",
   "execution_count": 4,
   "id": "9041eaea",
   "metadata": {},
   "outputs": [],
   "source": [
    "data = {\n",
    "    \"grant_type\": \"client_credentials\",\n",
    "    \"client_id\": \"da519c39baed4bab992606419ed1ad08\",\n",
    "    \"client_secret\": \"e79d7d4c32054e56be93516339acebc3\"\n",
    "}\n",
    "headers = {\n",
    "    \"Content-Type\": \"application/x-www-form-urlencoded\"\n",
    "}\n",
    "response = requests.post(\"https://accounts.spotify.com/api/token\",data=data,headers=headers)\n",
    "access_token = \"Bearer \" + response.json()['access_token']"
   ]
  },
  {
   "cell_type": "code",
   "execution_count": 5,
   "id": "dde35920",
   "metadata": {},
   "outputs": [],
   "source": [
    "headers = {\n",
    "        'Authorization' : access_token,\n",
    "}\n",
    "response_top_tracks = requests.get(api_url_toptracks, headers = headers)\n",
    "response_relatedartist = requests.get(api_url_relatedartist, headers = headers)\n",
    "response_audio = requests.get(api_url_audioanalysis, headers = headers)\n",
    "response_audio_features = requests.get(api_url_audiofeatures, headers = headers)"
   ]
  },
  {
   "cell_type": "code",
   "execution_count": 7,
   "id": "001d6e51",
   "metadata": {},
   "outputs": [],
   "source": [
    "dojacat_toptracks = response_top_tracks.json()['tracks']\n"
   ]
  },
  {
   "cell_type": "code",
   "execution_count": 8,
   "id": "9f6ffd19",
   "metadata": {
    "scrolled": true
   },
   "outputs": [
    {
     "data": {
      "text/html": [
       "<div>\n",
       "<style scoped>\n",
       "    .dataframe tbody tr th:only-of-type {\n",
       "        vertical-align: middle;\n",
       "    }\n",
       "\n",
       "    .dataframe tbody tr th {\n",
       "        vertical-align: top;\n",
       "    }\n",
       "\n",
       "    .dataframe thead th {\n",
       "        text-align: right;\n",
       "    }\n",
       "</style>\n",
       "<table border=\"1\" class=\"dataframe\">\n",
       "  <thead>\n",
       "    <tr style=\"text-align: right;\">\n",
       "      <th></th>\n",
       "      <th>popularity</th>\n",
       "      <th>track_number</th>\n",
       "    </tr>\n",
       "    <tr>\n",
       "      <th>name</th>\n",
       "      <th></th>\n",
       "      <th></th>\n",
       "    </tr>\n",
       "  </thead>\n",
       "  <tbody>\n",
       "    <tr>\n",
       "      <th>I Like You (A Happier Song) (with Doja Cat)</th>\n",
       "      <td>87</td>\n",
       "      <td>5</td>\n",
       "    </tr>\n",
       "    <tr>\n",
       "      <th>Woman</th>\n",
       "      <td>87</td>\n",
       "      <td>1</td>\n",
       "    </tr>\n",
       "    <tr>\n",
       "      <th>Kiss Me More (feat. SZA)</th>\n",
       "      <td>82</td>\n",
       "      <td>14</td>\n",
       "    </tr>\n",
       "    <tr>\n",
       "      <th>You Right</th>\n",
       "      <td>83</td>\n",
       "      <td>8</td>\n",
       "    </tr>\n",
       "    <tr>\n",
       "      <th>Kill Bill (feat. Doja Cat)</th>\n",
       "      <td>84</td>\n",
       "      <td>1</td>\n",
       "    </tr>\n",
       "    <tr>\n",
       "      <th>Need to Know</th>\n",
       "      <td>82</td>\n",
       "      <td>5</td>\n",
       "    </tr>\n",
       "    <tr>\n",
       "      <th>Vegas (From the Original Motion Picture Soundtrack ELVIS)</th>\n",
       "      <td>83</td>\n",
       "      <td>1</td>\n",
       "    </tr>\n",
       "    <tr>\n",
       "      <th>Streets</th>\n",
       "      <td>83</td>\n",
       "      <td>9</td>\n",
       "    </tr>\n",
       "    <tr>\n",
       "      <th>In Your eyes (Remix)</th>\n",
       "      <td>44</td>\n",
       "      <td>3</td>\n",
       "    </tr>\n",
       "    <tr>\n",
       "      <th>Boss Bitch</th>\n",
       "      <td>81</td>\n",
       "      <td>1</td>\n",
       "    </tr>\n",
       "  </tbody>\n",
       "</table>\n",
       "</div>"
      ],
      "text/plain": [
       "                                                    popularity  track_number\n",
       "name                                                                        \n",
       "I Like You (A Happier Song) (with Doja Cat)                 87             5\n",
       "Woman                                                       87             1\n",
       "Kiss Me More (feat. SZA)                                    82            14\n",
       "You Right                                                   83             8\n",
       "Kill Bill (feat. Doja Cat)                                  84             1\n",
       "Need to Know                                                82             5\n",
       "Vegas (From the Original Motion Picture Soundtr...          83             1\n",
       "Streets                                                     83             9\n",
       "In Your eyes (Remix)                                        44             3\n",
       "Boss Bitch                                                  81             1"
      ]
     },
     "execution_count": 8,
     "metadata": {},
     "output_type": "execute_result"
    }
   ],
   "source": [
    "toptracks_df = pd.DataFrame(dojacat_toptracks)\n",
    "dojatracks_df = toptracks_df[['name', 'popularity','track_number']]\n",
    "dojatracks_df.set_index('name')"
   ]
  },
  {
   "cell_type": "code",
   "execution_count": 9,
   "id": "d7ee914c",
   "metadata": {},
   "outputs": [
    {
     "data": {
      "image/png": "[encoded data removed]",
      "text/plain": [
       "<Figure size 432x288 with 1 Axes>"
      ]
     },
     "metadata": {
      "needs_background": "light"
     },
     "output_type": "display_data"
    }
   ],
   "source": [
    "#plotpopularity = ['popularity']\n",
    "#dojatracks_df[plotpopularity].plot.bar()\n",
    "y_axis = dojatracks_df['popularity']\n",
    "x_axis = ['I like you', 'Woman', 'Kiss Me More', 'You Right', 'Kill Bill', 'Need to know', 'Vegas', 'Streets', 'In Your eyes', 'Boss B*tch']\n",
    "plt.bar(x_axis, y_axis, color = 'magenta',)\n",
    "plt.xlabel('Song Names')\n",
    "plt.xticks(rotation = 90)\n",
    "plt.ylabel('Popularity')\n",
    "plt.title('Doja Cat Top Tracks Popularity')\n",
    "plt.savefig('dojacattoptracks.png', dpi=400)"
   ]
  },
  {
   "cell_type": "code",
   "execution_count": 38,
   "id": "f7a41cf3",
   "metadata": {
    "scrolled": false
   },
   "outputs": [],
   "source": [
    "realtedartists = response_relatedartist.json()['artists']\n"
   ]
  },
  {
   "cell_type": "code",
   "execution_count": 11,
   "id": "82f18c46",
   "metadata": {},
   "outputs": [],
   "source": [
    "artistsdata = []\n",
    "allgenres = []\n",
    "for artist in realtedartists:\n",
    "    artistinfo = {\n",
    "        'genres': artist['genres'],\n",
    "        'genre_count': len(artist['genres']),\n",
    "        'name': artist['name'],\n",
    "        'popularity': artist['popularity'],\n",
    "    }\n",
    "    artistsdata.append(artistinfo)\n",
    "    genres = artist['genres']\n",
    "    allgenres += genres"
   ]
  },
  {
   "cell_type": "code",
   "execution_count": 20,
   "id": "69f798c6",
   "metadata": {},
   "outputs": [
    {
     "data": {
      "text/html": [
       "<div>\n",
       "<style scoped>\n",
       "    .dataframe tbody tr th:only-of-type {\n",
       "        vertical-align: middle;\n",
       "    }\n",
       "\n",
       "    .dataframe tbody tr th {\n",
       "        vertical-align: top;\n",
       "    }\n",
       "\n",
       "    .dataframe thead th {\n",
       "        text-align: right;\n",
       "    }\n",
       "</style>\n",
       "<table border=\"1\" class=\"dataframe\">\n",
       "  <thead>\n",
       "    <tr style=\"text-align: right;\">\n",
       "      <th></th>\n",
       "      <th>genres</th>\n",
       "      <th>genre_count</th>\n",
       "      <th>name</th>\n",
       "      <th>popularity</th>\n",
       "    </tr>\n",
       "  </thead>\n",
       "  <tbody>\n",
       "    <tr>\n",
       "      <th>0</th>\n",
       "      <td>[colombian pop]</td>\n",
       "      <td>1</td>\n",
       "      <td>Kali Uchis</td>\n",
       "      <td>86</td>\n",
       "    </tr>\n",
       "    <tr>\n",
       "      <th>1</th>\n",
       "      <td>[pop, r&amp;b]</td>\n",
       "      <td>2</td>\n",
       "      <td>Kehlani</td>\n",
       "      <td>74</td>\n",
       "    </tr>\n",
       "    <tr>\n",
       "      <th>2</th>\n",
       "      <td>[etherpop]</td>\n",
       "      <td>1</td>\n",
       "      <td>Alina Baraz</td>\n",
       "      <td>66</td>\n",
       "    </tr>\n",
       "    <tr>\n",
       "      <th>3</th>\n",
       "      <td>[r&amp;b]</td>\n",
       "      <td>1</td>\n",
       "      <td>Chloe x Halle</td>\n",
       "      <td>58</td>\n",
       "    </tr>\n",
       "    <tr>\n",
       "      <th>4</th>\n",
       "      <td>[r&amp;b]</td>\n",
       "      <td>1</td>\n",
       "      <td>Kiana Ledé</td>\n",
       "      <td>64</td>\n",
       "    </tr>\n",
       "    <tr>\n",
       "      <th>5</th>\n",
       "      <td>[canadian contemporary r&amp;b, canadian pop]</td>\n",
       "      <td>2</td>\n",
       "      <td>Jessie Reyez</td>\n",
       "      <td>71</td>\n",
       "    </tr>\n",
       "    <tr>\n",
       "      <th>6</th>\n",
       "      <td>[art pop, electropop, indie pop]</td>\n",
       "      <td>3</td>\n",
       "      <td>Rina Sawayama</td>\n",
       "      <td>63</td>\n",
       "    </tr>\n",
       "    <tr>\n",
       "      <th>7</th>\n",
       "      <td>[pop r&amp;b, r&amp;b]</td>\n",
       "      <td>2</td>\n",
       "      <td>Justine Skye</td>\n",
       "      <td>70</td>\n",
       "    </tr>\n",
       "    <tr>\n",
       "      <th>8</th>\n",
       "      <td>[r&amp;b, uk contemporary r&amp;b]</td>\n",
       "      <td>2</td>\n",
       "      <td>Jorja Smith</td>\n",
       "      <td>72</td>\n",
       "    </tr>\n",
       "    <tr>\n",
       "      <th>9</th>\n",
       "      <td>[alternative r&amp;b, dance pop, metropopolis, pop...</td>\n",
       "      <td>6</td>\n",
       "      <td>Tinashe</td>\n",
       "      <td>67</td>\n",
       "    </tr>\n",
       "    <tr>\n",
       "      <th>10</th>\n",
       "      <td>[trap queen]</td>\n",
       "      <td>1</td>\n",
       "      <td>Qveen Herby</td>\n",
       "      <td>57</td>\n",
       "    </tr>\n",
       "    <tr>\n",
       "      <th>11</th>\n",
       "      <td>[r&amp;b, rap]</td>\n",
       "      <td>2</td>\n",
       "      <td>H.E.R.</td>\n",
       "      <td>75</td>\n",
       "    </tr>\n",
       "    <tr>\n",
       "      <th>12</th>\n",
       "      <td>[r&amp;b]</td>\n",
       "      <td>1</td>\n",
       "      <td>Sabrina Claudio</td>\n",
       "      <td>63</td>\n",
       "    </tr>\n",
       "    <tr>\n",
       "      <th>13</th>\n",
       "      <td>[trap queen]</td>\n",
       "      <td>1</td>\n",
       "      <td>Baby Tate</td>\n",
       "      <td>69</td>\n",
       "    </tr>\n",
       "    <tr>\n",
       "      <th>14</th>\n",
       "      <td>[alternative r&amp;b]</td>\n",
       "      <td>1</td>\n",
       "      <td>Victoria Monét</td>\n",
       "      <td>67</td>\n",
       "    </tr>\n",
       "    <tr>\n",
       "      <th>15</th>\n",
       "      <td>[alt z, escape room]</td>\n",
       "      <td>2</td>\n",
       "      <td>Ashnikko</td>\n",
       "      <td>70</td>\n",
       "    </tr>\n",
       "    <tr>\n",
       "      <th>16</th>\n",
       "      <td>[alternative r&amp;b, dmv rap, trap queen]</td>\n",
       "      <td>3</td>\n",
       "      <td>Rico Nasty</td>\n",
       "      <td>65</td>\n",
       "    </tr>\n",
       "    <tr>\n",
       "      <th>17</th>\n",
       "      <td>[pop, r&amp;b, rap]</td>\n",
       "      <td>3</td>\n",
       "      <td>SZA</td>\n",
       "      <td>90</td>\n",
       "    </tr>\n",
       "    <tr>\n",
       "      <th>18</th>\n",
       "      <td>[r&amp;b, rap, uk contemporary r&amp;b]</td>\n",
       "      <td>3</td>\n",
       "      <td>Ella Mai</td>\n",
       "      <td>70</td>\n",
       "    </tr>\n",
       "    <tr>\n",
       "      <th>19</th>\n",
       "      <td>[rap latina, trap queen]</td>\n",
       "      <td>2</td>\n",
       "      <td>BIA</td>\n",
       "      <td>69</td>\n",
       "    </tr>\n",
       "  </tbody>\n",
       "</table>\n",
       "</div>"
      ],
      "text/plain": [
       "                                               genres  genre_count  \\\n",
       "0                                     [colombian pop]            1   \n",
       "1                                          [pop, r&b]            2   \n",
       "2                                          [etherpop]            1   \n",
       "3                                               [r&b]            1   \n",
       "4                                               [r&b]            1   \n",
       "5           [canadian contemporary r&b, canadian pop]            2   \n",
       "6                    [art pop, electropop, indie pop]            3   \n",
       "7                                      [pop r&b, r&b]            2   \n",
       "8                          [r&b, uk contemporary r&b]            2   \n",
       "9   [alternative r&b, dance pop, metropopolis, pop...            6   \n",
       "10                                       [trap queen]            1   \n",
       "11                                         [r&b, rap]            2   \n",
       "12                                              [r&b]            1   \n",
       "13                                       [trap queen]            1   \n",
       "14                                  [alternative r&b]            1   \n",
       "15                               [alt z, escape room]            2   \n",
       "16             [alternative r&b, dmv rap, trap queen]            3   \n",
       "17                                    [pop, r&b, rap]            3   \n",
       "18                    [r&b, rap, uk contemporary r&b]            3   \n",
       "19                           [rap latina, trap queen]            2   \n",
       "\n",
       "               name  popularity  \n",
       "0        Kali Uchis          86  \n",
       "1           Kehlani          74  \n",
       "2       Alina Baraz          66  \n",
       "3     Chloe x Halle          58  \n",
       "4        Kiana Ledé          64  \n",
       "5      Jessie Reyez          71  \n",
       "6     Rina Sawayama          63  \n",
       "7      Justine Skye          70  \n",
       "8       Jorja Smith          72  \n",
       "9           Tinashe          67  \n",
       "10      Qveen Herby          57  \n",
       "11           H.E.R.          75  \n",
       "12  Sabrina Claudio          63  \n",
       "13        Baby Tate          69  \n",
       "14   Victoria Monét          67  \n",
       "15         Ashnikko          70  \n",
       "16       Rico Nasty          65  \n",
       "17              SZA          90  \n",
       "18         Ella Mai          70  \n",
       "19              BIA          69  "
      ]
     },
     "execution_count": 20,
     "metadata": {},
     "output_type": "execute_result"
    }
   ],
   "source": [
    "artists_df = pd.DataFrame(artistsdata)\n",
    "artists_df\n",
    "#allgenres = list(set(allgenres)) .. .set_index('name')\n",
    "#print(len(allgenres))\n",
    "#print(allgenres)\n",
    "#combine all rap and pop together\n",
    "#genres is in a list\n",
    "#songlist_dict = {\n",
    "    #'r&b': ['pop r&b', 'r&b', 'canadian contemporary r&b', 'uk contemporary r&b', 'alternative r&b'],\n",
    "    #'rap': ['dmv rap', 'rap', 'trap queen', 'rap', 'rap latina', 'urban contemporary', 'metropopolis', 'alt z'],\n",
    "    #'pop': ['pop r&b', 'dance pop', 'escape room','indie pop', 'art pop', 'colombian pop', 'pop', 'etherpop', 'electropop', 'canadian pop'],\n",
    "#}\n",
    "\n",
    "#renamed_df = artists_df.replace({\"genres\": {'pop r&b': 'r&b','dance pop': 'pop', 'dmv rap': 'rap', 'escape room': 'pop', \n",
    "                                          # 'trap queen': 'rap', 'indie pop': 'pop', 'art pop': 'pop', 'colombian pop': 'pop', \n",
    "                                          # 'etherpop': 'pop', 'urban contemporary': 'rap', 'metropopolis': 'rap','alt z': 'rap',\n",
    "                                           #'rap latina': 'rap', 'canadian contemporary r&b': 'r&b', 'uk contemporary r&b': 'r&b',\n",
    "                                           #'alternative r&b': 'r&b', 'electropop': 'pop','canadian pop': 'pop'}})\n",
    "#renamed_df.info()"
   ]
  },
  {
   "cell_type": "code",
   "execution_count": 28,
   "id": "d99b49f6",
   "metadata": {},
   "outputs": [
    {
     "name": "stderr",
     "output_type": "stream",
     "text": [
      "No handles with labels found to put in legend.\n"
     ]
    },
    {
     "data": {
      "image/png": "[encoded data removed]",
      "text/plain": [
       "<Figure size 432x288 with 1 Axes>"
      ]
     },
     "metadata": {
      "needs_background": "light"
     },
     "output_type": "display_data"
    }
   ],
   "source": [
    "#plotartists = ['popularity', 'genre_count']\n",
    "#artists_df[plotartists].plot.bar()\n",
    "x_axis = artists_df['name']\n",
    "y_axis1 = artists_df['popularity']\n",
    "y_axis2 = artists_df['genre_count']\n",
    "plt.bar(x_axis, y_axis1, color = 'magenta')\n",
    "plt.bar(x_axis, y_axis2, color = 'blue')\n",
    "plt.xlabel('Related Artists')\n",
    "plt.xticks(rotation = 90)\n",
    "plt.ylabel('Genre Count & Popularity')\n",
    "plt.title('Does Genre count effect an artists popularity?')\n",
    "plt.legend(loc = 0)\n",
    "plt.savefig('genreandpopularity.png', dpi=400)"
   ]
  },
  {
   "cell_type": "code",
   "execution_count": 59,
   "id": "5024ab3f",
   "metadata": {
    "scrolled": false
   },
   "outputs": [],
   "source": [
    "dojacatsong = response_audio.json()['beats']\n",
    "dojacatsong2 = response_audio.json()['bars']\n",
    "dojacatsong1 = response_audio.json()['sections']"
   ]
  },
  {
   "cell_type": "code",
   "execution_count": 72,
   "id": "0c0cfec5",
   "metadata": {},
   "outputs": [
    {
     "data": {
      "text/plain": [
       "<matplotlib.legend.Legend at 0x7fdee2bad5b0>"
      ]
     },
     "execution_count": 72,
     "metadata": {},
     "output_type": "execute_result"
    },
    {
     "data": {
      "image/png": "[encoded data removed]",
      "text/plain": [
       "<Figure size 432x288 with 1 Axes>"
      ]
     },
     "metadata": {
      "needs_background": "light"
     },
     "output_type": "display_data"
    }
   ],
   "source": [
    "dojacatsong1_df = pd.DataFrame(dojacatsong1)\n",
    "dojacatsong1_df['absloud'] = dojacatsong1_df['loudness'].map(abs)\n",
    "dojacatsong1_df\n",
    "x_axis = dojacatsong1_df['start']\n",
    "y_axis = dojacatsong1_df['key_confidence']\n",
    "y_axis1 = dojacatsong1_df['confidence']\n",
    "y_axis2 = dojacatsong1_df['absloud']\n",
    "y_axis3 = dojacatsong1_df['mode_confidence']\n",
    "plt.plot(x_axis, y_axis, label=\"key confidence\")\n",
    "plt.plot(x_axis, y_axis1,label=\"confidence\" )\n",
    "#plt.plot(x_axis, y_axis2, label=\"loudness\")\n",
    "plt.plot(x_axis, y_axis3, label=\"mode confidence\")\n",
    "plt.title('Doja Cat Song Audio Features')\n",
    "plt.xlabel('Duration in (s)')\n",
    "plt.ylabel('Song Features')\n",
    "plt.legend(loc=\"best\")"
   ]
  },
  {
   "cell_type": "code",
   "execution_count": 53,
   "id": "fb43aa6d",
   "metadata": {},
   "outputs": [
    {
     "data": {
      "image/png": "[encoded data removed]",
      "text/plain": [
       "<Figure size 432x288 with 1 Axes>"
      ]
     },
     "metadata": {
      "needs_background": "light"
     },
     "output_type": "display_data"
    }
   ],
   "source": [
    "dojacatsong_df = pd.DataFrame(dojacatsong)\n",
    "dojacatsong_df\n",
    "dojacatsongbars_df = pd.DataFrame(dojacatsong2)\n",
    "dojacatsongbars_df\n",
    "x_axis1 = dojacatsong_df['start']\n",
    "y_axis1 = dojacatsong_df['confidence']\n",
    "x_axis = dojacatsong_df['start']\n",
    "y_axis = dojacatsong_df['confidence']\n",
    "plt.plot(x_axis, y_axis, color = 'red')\n",
    "plt.xlabel('Time in Song')\n",
    "plt.ylabel('Confidence')\n",
    "plt.title('Changes in Beats of Doja Cat Song')\n",
    "plt.savefig('dojacatsongconfidence.png', dpi=400)\n"
   ]
  },
  {
   "cell_type": "code",
   "execution_count": 49,
   "id": "31d79637",
   "metadata": {},
   "outputs": [
    {
     "data": {
      "image/png": "[encoded data removed]",
      "text/plain": [
       "<Figure size 432x288 with 1 Axes>"
      ]
     },
     "metadata": {
      "needs_background": "light"
     },
     "output_type": "display_data"
    }
   ],
   "source": [
    "dojacatsongbars_df = pd.DataFrame(dojacatsong2)\n",
    "dojacatsongbars_df\n",
    "x_axis1 = dojacatsong_df['start']\n",
    "y_axis1 = dojacatsong_df['confidence']\n",
    "plt.plot(x_axis, y_axis, color = 'blue')\n",
    "plt.xlabel('Time in Song')\n",
    "plt.ylabel('Confidence')\n",
    "plt.title('Changes in Bars of Doja Cat Song')\n",
    "plt.savefig('dojacatsongbars.png', dpi=400)"
   ]
  },
  {
   "cell_type": "code",
   "execution_count": 31,
   "id": "70ebb1fb",
   "metadata": {
    "scrolled": true
   },
   "outputs": [
    {
     "name": "stdout",
     "output_type": "stream",
     "text": [
      "{'acousticness': 0.0282,\n",
      " 'analysis_url': 'https://api.spotify.com/v1/audio-analysis/6c6WmIHcHlhccEwSFBhzNa',\n",
      " 'danceability': 0.849,\n",
      " 'duration_ms': 185748,\n",
      " 'energy': 0.614,\n",
      " 'id': '6c6WmIHcHlhccEwSFBhzNa',\n",
      " 'instrumentalness': 0,\n",
      " 'key': 1,\n",
      " 'liveness': 0.0603,\n",
      " 'loudness': -7.323,\n",
      " 'mode': 1,\n",
      " 'speechiness': 0.317,\n",
      " 'tempo': 111.363,\n",
      " 'time_signature': 5,\n",
      " 'title': 'Put it on the Floor',\n",
      " 'track_href': 'https://api.spotify.com/v1/tracks/6c6WmIHcHlhccEwSFBhzNa',\n",
      " 'type': 'audio_features',\n",
      " 'uri': 'spotify:track:6c6WmIHcHlhccEwSFBhzNa',\n",
      " 'valence': 0.472}\n"
     ]
    }
   ],
   "source": [
    "putitonthefloor = response_audio_features.json()\n",
    "putitonthefloor[\"title\"] = \"Put it on the Floor\"\n",
    "pprint(putitonthefloor)"
   ]
  },
  {
   "cell_type": "code",
   "execution_count": 32,
   "id": "7642ee72",
   "metadata": {
    "scrolled": true
   },
   "outputs": [
    {
     "name": "stdout",
     "output_type": "stream",
     "text": [
      "{'acousticness': 0.14,\n",
      " 'analysis_url': 'https://api.spotify.com/v1/audio-analysis/0ZxhtATQ0a6EvQNZ0z6NKV',\n",
      " 'danceability': 0.898,\n",
      " 'duration_ms': 172125,\n",
      " 'energy': 0.676,\n",
      " 'id': '0ZxhtATQ0a6EvQNZ0z6NKV',\n",
      " 'instrumentalness': 0,\n",
      " 'key': 9,\n",
      " 'liveness': 0.101,\n",
      " 'loudness': -5.196,\n",
      " 'mode': 1,\n",
      " 'speechiness': 0.187,\n",
      " 'tempo': 147.991,\n",
      " 'time_signature': 4,\n",
      " 'title': 'Princess Diana',\n",
      " 'track_href': 'https://api.spotify.com/v1/tracks/0ZxhtATQ0a6EvQNZ0z6NKV',\n",
      " 'type': 'audio_features',\n",
      " 'uri': 'spotify:track:0ZxhtATQ0a6EvQNZ0z6NKV',\n",
      " 'valence': 0.742}\n"
     ]
    }
   ],
   "source": [
    "response_song2 = requests.get(api_url_audiofeatures2, headers = headers)\n",
    "princessdiana = response_song2.json()\n",
    "princessdiana[\"title\"] = \"Princess Diana\"\n",
    "pprint(princessdiana)"
   ]
  },
  {
   "cell_type": "code",
   "execution_count": 33,
   "id": "b56e3ee9",
   "metadata": {
    "scrolled": true
   },
   "outputs": [
    {
     "name": "stdout",
     "output_type": "stream",
     "text": [
      "{'acousticness': 0.14,\n",
      " 'analysis_url': 'https://api.spotify.com/v1/audio-analysis/0ZxhtATQ0a6EvQNZ0z6NKV',\n",
      " 'danceability': 0.898,\n",
      " 'duration_ms': 172125,\n",
      " 'energy': 0.676,\n",
      " 'id': '0ZxhtATQ0a6EvQNZ0z6NKV',\n",
      " 'instrumentalness': 0,\n",
      " 'key': 9,\n",
      " 'liveness': 0.101,\n",
      " 'loudness': -5.196,\n",
      " 'mode': 1,\n",
      " 'speechiness': 0.187,\n",
      " 'tempo': 147.991,\n",
      " 'time_signature': 4,\n",
      " 'title': 'Area Codes',\n",
      " 'track_href': 'https://api.spotify.com/v1/tracks/0ZxhtATQ0a6EvQNZ0z6NKV',\n",
      " 'type': 'audio_features',\n",
      " 'uri': 'spotify:track:0ZxhtATQ0a6EvQNZ0z6NKV',\n",
      " 'valence': 0.742}\n"
     ]
    }
   ],
   "source": [
    "response_song3 = requests.get(api_url_audiofeatures3, headers = headers)\n",
    "areacodes = response_song2.json()\n",
    "areacodes[\"title\"] = \"Area Codes\"\n",
    "pprint(areacodes)"
   ]
  },
  {
   "cell_type": "code",
   "execution_count": 60,
   "id": "b38b412a",
   "metadata": {},
   "outputs": [
    {
     "data": {
      "text/html": [
       "<div>\n",
       "<style scoped>\n",
       "    .dataframe tbody tr th:only-of-type {\n",
       "        vertical-align: middle;\n",
       "    }\n",
       "\n",
       "    .dataframe tbody tr th {\n",
       "        vertical-align: top;\n",
       "    }\n",
       "\n",
       "    .dataframe thead th {\n",
       "        text-align: right;\n",
       "    }\n",
       "</style>\n",
       "<table border=\"1\" class=\"dataframe\">\n",
       "  <thead>\n",
       "    <tr style=\"text-align: right;\">\n",
       "      <th></th>\n",
       "      <th>danceability</th>\n",
       "      <th>energy</th>\n",
       "      <th>key</th>\n",
       "      <th>loudness</th>\n",
       "      <th>mode</th>\n",
       "      <th>speechiness</th>\n",
       "      <th>acousticness</th>\n",
       "      <th>instrumentalness</th>\n",
       "      <th>liveness</th>\n",
       "      <th>valence</th>\n",
       "      <th>tempo</th>\n",
       "      <th>duration_ms</th>\n",
       "      <th>time_signature</th>\n",
       "      <th>absloud</th>\n",
       "    </tr>\n",
       "    <tr>\n",
       "      <th>title</th>\n",
       "      <th></th>\n",
       "      <th></th>\n",
       "      <th></th>\n",
       "      <th></th>\n",
       "      <th></th>\n",
       "      <th></th>\n",
       "      <th></th>\n",
       "      <th></th>\n",
       "      <th></th>\n",
       "      <th></th>\n",
       "      <th></th>\n",
       "      <th></th>\n",
       "      <th></th>\n",
       "      <th></th>\n",
       "    </tr>\n",
       "  </thead>\n",
       "  <tbody>\n",
       "    <tr>\n",
       "      <th>Area Codes</th>\n",
       "      <td>0.898</td>\n",
       "      <td>0.676</td>\n",
       "      <td>9</td>\n",
       "      <td>-5.196</td>\n",
       "      <td>1</td>\n",
       "      <td>0.187</td>\n",
       "      <td>0.1400</td>\n",
       "      <td>0</td>\n",
       "      <td>0.1010</td>\n",
       "      <td>0.742</td>\n",
       "      <td>147.991</td>\n",
       "      <td>172125</td>\n",
       "      <td>4</td>\n",
       "      <td>5.196</td>\n",
       "    </tr>\n",
       "    <tr>\n",
       "      <th>Princess Diana</th>\n",
       "      <td>0.898</td>\n",
       "      <td>0.676</td>\n",
       "      <td>9</td>\n",
       "      <td>-5.196</td>\n",
       "      <td>1</td>\n",
       "      <td>0.187</td>\n",
       "      <td>0.1400</td>\n",
       "      <td>0</td>\n",
       "      <td>0.1010</td>\n",
       "      <td>0.742</td>\n",
       "      <td>147.991</td>\n",
       "      <td>172125</td>\n",
       "      <td>4</td>\n",
       "      <td>5.196</td>\n",
       "    </tr>\n",
       "    <tr>\n",
       "      <th>Put it on the Floor</th>\n",
       "      <td>0.849</td>\n",
       "      <td>0.614</td>\n",
       "      <td>1</td>\n",
       "      <td>-7.323</td>\n",
       "      <td>1</td>\n",
       "      <td>0.317</td>\n",
       "      <td>0.0282</td>\n",
       "      <td>0</td>\n",
       "      <td>0.0603</td>\n",
       "      <td>0.472</td>\n",
       "      <td>111.363</td>\n",
       "      <td>185748</td>\n",
       "      <td>5</td>\n",
       "      <td>7.323</td>\n",
       "    </tr>\n",
       "  </tbody>\n",
       "</table>\n",
       "</div>"
      ],
      "text/plain": [
       "                     danceability  energy  key  loudness  mode  speechiness  \\\n",
       "title                                                                         \n",
       "Area Codes                  0.898   0.676    9    -5.196     1        0.187   \n",
       "Princess Diana              0.898   0.676    9    -5.196     1        0.187   \n",
       "Put it on the Floor         0.849   0.614    1    -7.323     1        0.317   \n",
       "\n",
       "                     acousticness  instrumentalness  liveness  valence  \\\n",
       "title                                                                    \n",
       "Area Codes                 0.1400                 0    0.1010    0.742   \n",
       "Princess Diana             0.1400                 0    0.1010    0.742   \n",
       "Put it on the Floor        0.0282                 0    0.0603    0.472   \n",
       "\n",
       "                       tempo  duration_ms  time_signature  absloud  \n",
       "title                                                               \n",
       "Area Codes           147.991       172125               4    5.196  \n",
       "Princess Diana       147.991       172125               4    5.196  \n",
       "Put it on the Floor  111.363       185748               5    7.323  "
      ]
     },
     "execution_count": 60,
     "metadata": {},
     "output_type": "execute_result"
    }
   ],
   "source": [
    "songs = [areacodes, princessdiana, putitonthefloor]\n",
    "\n",
    "columnstodrop = ['type', 'id', 'uri', 'track_href', 'analysis_url']\n",
    "songs_df = pd.DataFrame(songs).drop(columns=columnstodrop).set_index(\"title\")\n",
    "songs_df['absloud'] = songs_df['loudness'].map(abs)\n",
    "songs_df"
   ]
  },
  {
   "cell_type": "code",
   "execution_count": 35,
   "id": "4092e4ca",
   "metadata": {
    "scrolled": true
   },
   "outputs": [
    {
     "data": {
      "text/plain": [
       "<AxesSubplot:xlabel='title'>"
      ]
     },
     "execution_count": 35,
     "metadata": {},
     "output_type": "execute_result"
    },
    {
     "data": {
      "image/png": "[encoded data removed]",
      "text/plain": [
       "<Figure size 432x288 with 1 Axes>"
      ]
     },
     "metadata": {
      "needs_background": "light"
     },
     "output_type": "display_data"
    }
   ],
   "source": [
    "plotcolumns = ['danceability', 'energy','absloud','liveness']\n",
    "songs_df[plotcolumns].plot.bar()"
   ]
  },
  {
   "cell_type": "code",
   "execution_count": 36,
   "id": "cf52af68",
   "metadata": {
    "scrolled": true
   },
   "outputs": [
    {
     "data": {
      "text/plain": [
       "<AxesSubplot:xlabel='title'>"
      ]
     },
     "execution_count": 36,
     "metadata": {},
     "output_type": "execute_result"
    },
    {
     "data": {
      "image/png": "[encoded data removed]",
      "text/plain": [
       "<Figure size 432x288 with 1 Axes>"
      ]
     },
     "metadata": {
      "needs_background": "light"
     },
     "output_type": "display_data"
    }
   ],
   "source": [
    "plotcolumns2 = ['speechiness', 'acousticness', 'instrumentalness']\n",
    "songs_df[plotcolumns2].plot.bar()"
   ]
  },
  {
   "cell_type": "markdown",
   "id": "3da7545f",
   "metadata": {},
   "source": []
  }
 ],
 "metadata": {
  "kernelspec": {
   "display_name": "Python 3",
   "language": "python",
   "name": "python3"
  },
  "language_info": {
   "codemirror_mode": {
    "name": "ipython",
    "version": 3
   },
   "file_extension": ".py",
   "mimetype": "text/x-python",
   "name": "python",
   "nbconvert_exporter": "python",
   "pygments_lexer": "ipython3",
   "version": "3.8.8"
  }
 },
 "nbformat": 4,
 "nbformat_minor": 5
}
